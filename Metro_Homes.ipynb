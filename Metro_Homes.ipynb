{
 "cells": [
  {
   "cell_type": "code",
   "execution_count": 1,
   "id": "9902bb24-5b10-4172-8850-39a8010244bc",
   "metadata": {},
   "outputs": [],
   "source": [
    "import pandas as pd\n",
    "import matplotlib.pyplot as plt\n",
    "import numpy as np\n",
    "import datetime as dt\n",
    "%matplotlib inline"
   ]
  },
  {
   "cell_type": "code",
   "execution_count": 2,
   "id": "76520bda-0548-44ee-a5ca-5d1b0b685ea8",
   "metadata": {},
   "outputs": [
    {
     "name": "stdout",
     "output_type": "stream",
     "text": [
      "<class 'pandas.core.frame.DataFrame'>\n",
      "RangeIndex: 416926 entries, 0 to 416925\n",
      "Data columns (total 18 columns):\n",
      " #   Column                          Non-Null Count   Dtype  \n",
      "---  ------                          --------------   -----  \n",
      " 0   period_begin                    416926 non-null  object \n",
      " 1   period_end                      416926 non-null  object \n",
      " 2   parent_metro_region_metro_code  416926 non-null  int64  \n",
      " 3   parent_metro_region             416926 non-null  object \n",
      " 4   state_code                      416926 non-null  object \n",
      " 5   property_type_id                416926 non-null  int64  \n",
      " 6   property_type                   416926 non-null  object \n",
      " 7   median_sale_price               416382 non-null  float64\n",
      " 8   median_list_price               388970 non-null  float64\n",
      " 9   median_ppsf                     412248 non-null  float64\n",
      " 10  median_list_ppsf                386245 non-null  float64\n",
      " 11  homes_sold                      416386 non-null  float64\n",
      " 12  pending_sales                   376758 non-null  float64\n",
      " 13  new_listings                    387946 non-null  float64\n",
      " 14  inventory                       406255 non-null  float64\n",
      " 15  months_of_supply                407992 non-null  float64\n",
      " 16  median_dom                      412094 non-null  float64\n",
      " 17  price_drops                     201583 non-null  float64\n",
      "dtypes: float64(11), int64(2), object(5)\n",
      "memory usage: 57.3+ MB\n"
     ]
    }
   ],
   "source": [
    "df_homes = pd.read_csv(\"Resources/Metro_homes.csv\")\n",
    "df_homes.info()"
   ]
  },
  {
   "cell_type": "code",
   "execution_count": 3,
   "id": "b521d10e-5fd1-4d61-9787-38c83a0689ef",
   "metadata": {},
   "outputs": [],
   "source": [
    "df_homes['period_end'] = pd.to_datetime(df_homes['period_end'])\n",
    "df_homes['period_begin'] = pd.to_datetime(df_homes['period_begin'])"
   ]
  },
  {
   "cell_type": "code",
   "execution_count": 4,
   "id": "4e18b019-7b26-4f08-8d0d-5aab796b3aff",
   "metadata": {},
   "outputs": [
    {
     "name": "stdout",
     "output_type": "stream",
     "text": [
      "<class 'pandas.core.frame.DataFrame'>\n",
      "RangeIndex: 416926 entries, 0 to 416925\n",
      "Data columns (total 18 columns):\n",
      " #   Column                          Non-Null Count   Dtype         \n",
      "---  ------                          --------------   -----         \n",
      " 0   period_begin                    416926 non-null  datetime64[ns]\n",
      " 1   period_end                      416926 non-null  datetime64[ns]\n",
      " 2   parent_metro_region_metro_code  416926 non-null  int64         \n",
      " 3   parent_metro_region             416926 non-null  object        \n",
      " 4   state_code                      416926 non-null  object        \n",
      " 5   property_type_id                416926 non-null  int64         \n",
      " 6   property_type                   416926 non-null  object        \n",
      " 7   median_sale_price               416382 non-null  float64       \n",
      " 8   median_list_price               388970 non-null  float64       \n",
      " 9   median_ppsf                     412248 non-null  float64       \n",
      " 10  median_list_ppsf                386245 non-null  float64       \n",
      " 11  homes_sold                      416386 non-null  float64       \n",
      " 12  pending_sales                   376758 non-null  float64       \n",
      " 13  new_listings                    387946 non-null  float64       \n",
      " 14  inventory                       406255 non-null  float64       \n",
      " 15  months_of_supply                407992 non-null  float64       \n",
      " 16  median_dom                      412094 non-null  float64       \n",
      " 17  price_drops                     201583 non-null  float64       \n",
      "dtypes: datetime64[ns](2), float64(11), int64(2), object(3)\n",
      "memory usage: 57.3+ MB\n"
     ]
    }
   ],
   "source": [
    "df_homes.info()"
   ]
  },
  {
   "cell_type": "code",
   "execution_count": null,
   "id": "2075f8fb-6cde-4ffa-9ca6-c9b8f68f88b8",
   "metadata": {},
   "outputs": [],
   "source": []
  }
 ],
 "metadata": {
  "kernelspec": {
   "display_name": "Python 3 (ipykernel)",
   "language": "python",
   "name": "python3"
  },
  "language_info": {
   "codemirror_mode": {
    "name": "ipython",
    "version": 3
   },
   "file_extension": ".py",
   "mimetype": "text/x-python",
   "name": "python",
   "nbconvert_exporter": "python",
   "pygments_lexer": "ipython3",
   "version": "3.11.5"
  }
 },
 "nbformat": 4,
 "nbformat_minor": 5
}
